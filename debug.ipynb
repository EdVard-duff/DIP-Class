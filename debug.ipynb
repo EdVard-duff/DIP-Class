{
 "cells": [
  {
   "cell_type": "code",
   "execution_count": 7,
   "metadata": {},
   "outputs": [],
   "source": [
    "import csv\n",
    "import os\n",
    "from config import opt\n",
    "from deepfack_dataset import get_train_dataloader, get_test_dataloader\n",
    "from deepfack_dataset import ImageDataset_for_test\n",
    "\n",
    "test_video_list = []\n",
    "test_video_path = os.path.join(opt.video_root,\n",
    "                    opt.deepfake_method_str[opt.deepfake_method]+'_test.csv')\n",
    "with open(test_video_path) as f:\n",
    "    reader = csv.reader(f)\n",
    "    reader = list(reader)\n",
    "    reader = reader[1:]\n",
    "    for row in reader:\n",
    "        test_video_list.append(row[0])\n",
    "\n",
    "test_set = ImageDataset_for_test()"
   ]
  },
  {
   "cell_type": "code",
   "execution_count": null,
   "metadata": {},
   "outputs": [],
   "source": [
    "import numpy as np\n",
    "import sklearn.metrics \n",
    "import f1_score\n",
    "prob_all = []\n",
    "lable_all = []\n",
    "for i, (data,label) in tqdm(train_data_loader):\n",
    "    prob = model(data) #表示模型的预测输出\n",
    "    prob = prob.cpu().numpy() #先把prob转到CPU上，然后再转成numpy，如果本身在CPU上训练的话就不用先转成CPU了\n",
    "    prob_all.extend(np.argmax(prob,axis=1)) #求每一行的最大值索引\n",
    "    label_all.extend(label)\n",
    "print(\"F1-Score:{:.4f}\".format(f1_score(label_all,prob_all)))"
   ]
  },
  {
   "cell_type": "code",
   "execution_count": 11,
   "metadata": {},
   "outputs": [],
   "source": [
    "video_names = []\n",
    "for i in range(len(test_set)):\n",
    "    img, label, video_name = test_set.__getitem__(i)\n",
    "    video_names.append(video_name)\n"
   ]
  },
  {
   "cell_type": "code",
   "execution_count": 15,
   "metadata": {},
   "outputs": [
    {
     "data": {
      "text/plain": [
       "['dataset\\\\testset\\\\deepfakes\\\\000.mp4',\n",
       " 'dataset\\\\testset\\\\deepfakes\\\\001.mp4']"
      ]
     },
     "execution_count": 15,
     "metadata": {},
     "output_type": "execute_result"
    },
    {
     "name": "stdout",
     "output_type": "stream",
     "text": [
      "dataset\\testset\\deepfakes\\001.mp4 396\n"
     ]
    }
   ],
   "source": [
    "test_video_list\n",
    "count = 0\n",
    "for i,video in enumerate(video_names):\n",
    "    if video == test_video_list[count]:\n",
    "        pass\n",
    "    else:\n",
    "        count = count + 1\n",
    "        print(video,i)"
   ]
  },
  {
   "cell_type": "code",
   "execution_count": 17,
   "metadata": {},
   "outputs": [
    {
     "data": {
      "text/plain": [
       "tensor([[0.1065, 0.8935],\n",
       "        [0.1018, 0.8982],\n",
       "        [0.7678, 0.2322],\n",
       "        [0.4005, 0.5995],\n",
       "        [0.6762, 0.3238],\n",
       "        [0.8152, 0.1848],\n",
       "        [0.6378, 0.3622],\n",
       "        [0.7854, 0.2146]])"
      ]
     },
     "execution_count": 17,
     "metadata": {},
     "output_type": "execute_result"
    },
    {
     "data": {
      "text/plain": [
       "[0.8935209,\n",
       " 0.89822793,\n",
       " 0.76776975,\n",
       " 0.5995427,\n",
       " 0.67619795,\n",
       " 0.8152256,\n",
       " 0.6377839,\n",
       " 0.7853505]"
      ]
     },
     "execution_count": 17,
     "metadata": {},
     "output_type": "execute_result"
    },
    {
     "data": {
      "text/plain": [
       "0.5625"
      ]
     },
     "execution_count": 17,
     "metadata": {},
     "output_type": "execute_result"
    },
    {
     "data": {
      "text/plain": [
       "0.4375"
      ]
     },
     "execution_count": 17,
     "metadata": {},
     "output_type": "execute_result"
    }
   ],
   "source": [
    "from sklearn.metrics import roc_auc_score\n",
    "import numpy as np\n",
    "from torch import nn\n",
    "import torch\n",
    "\n",
    "preds = torch.randn(8,2)\n",
    "m = nn.Softmax(dim=1)\n",
    "preds = m(preds)\n",
    "preds\n",
    "preds_all = []\n",
    "preds_all.extend(np.max(preds.numpy(), axis=1))\n",
    "preds_all\n",
    "label = np.array([0,1,0,1,0,1,0,1])\n",
    "\n",
    "roc_auc_score(label,preds[:,0])\n",
    "roc_auc_score(label,preds[:,1])"
   ]
  },
  {
   "cell_type": "code",
   "execution_count": 4,
   "metadata": {},
   "outputs": [
    {
     "data": {
      "text/plain": [
       "35.15942842506177"
      ]
     },
     "execution_count": 4,
     "metadata": {},
     "output_type": "execute_result"
    }
   ],
   "source": [
    "import numpy as np\n",
    "\n",
    "tar = np.random.random((68,2))\n",
    "src = np.random.random((68,2))\n",
    "\n",
    "dis = np.sum((tar-src)**2,axis=1)\n",
    "dis = np.sum(np.sqrt(dis))\n",
    "dis"
   ]
  },
  {
   "cell_type": "code",
   "execution_count": 10,
   "metadata": {},
   "outputs": [
    {
     "data": {
      "text/plain": [
       "(896, 896, 3)"
      ]
     },
     "execution_count": 10,
     "metadata": {},
     "output_type": "execute_result"
    },
    {
     "data": {
      "text/plain": [
       "array([[39, 31, 31],\n",
       "       [32, 24, 24],\n",
       "       [26, 18, 18],\n",
       "       ...,\n",
       "       [46, 28, 27],\n",
       "       [60, 42, 41],\n",
       "       [80, 62, 61]], dtype=uint8)"
      ]
     },
     "execution_count": 10,
     "metadata": {},
     "output_type": "execute_result"
    },
    {
     "data": {
      "text/plain": [
       "torch.Size([3, 896, 896])"
      ]
     },
     "execution_count": 10,
     "metadata": {},
     "output_type": "execute_result"
    },
    {
     "data": {
      "text/plain": [
       "torch.Size([3, 256, 256])"
      ]
     },
     "execution_count": 10,
     "metadata": {},
     "output_type": "execute_result"
    }
   ],
   "source": [
    "import cv2\n",
    "import torchvision.transforms as transforms\n",
    "a = cv2.imread('I2G\\man4.jpg')\n",
    "a.shape\n",
    "m = transforms.ToTensor()\n",
    "n = transforms.Resize((256,256))\n",
    "a[0]\n",
    "a = m(a)\n",
    "a.shape\n",
    "a = n(a)\n",
    "a.shape\n"
   ]
  },
  {
   "cell_type": "code",
   "execution_count": null,
   "metadata": {},
   "outputs": [],
   "source": [
    "import numpy,imageio,elasticdeform\n",
    "X=numpy.zeros((200,300))\n",
    "X[::10,::10]=1# apply deformation with a random 3 x 3 grid\n",
    "X_deformed=elasticdeform.deform_random_grid(X,sigma=25,points=3)\n",
    "imageio.imsave('test_X.png',X)\n",
    "imageio.imsave('test_X_deformed.png',X_deformed)"
   ]
  }
 ],
 "metadata": {
  "interpreter": {
   "hash": "fb71fd9c3a8870bae8b470c3c4c52a9514a1276bbeb9ea5c4061a9c129ee4266"
  },
  "kernelspec": {
   "display_name": "Python 3.9.0 64-bit",
   "language": "python",
   "name": "python3"
  },
  "language_info": {
   "codemirror_mode": {
    "name": "ipython",
    "version": 3
   },
   "file_extension": ".py",
   "mimetype": "text/x-python",
   "name": "python",
   "nbconvert_exporter": "python",
   "pygments_lexer": "ipython3",
   "version": "3.9.0"
  },
  "orig_nbformat": 4
 },
 "nbformat": 4,
 "nbformat_minor": 2
}
