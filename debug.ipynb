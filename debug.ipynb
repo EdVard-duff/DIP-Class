{
 "cells": [
  {
   "cell_type": "code",
   "execution_count": 2,
   "metadata": {},
   "outputs": [],
   "source": [
    "from typing import ForwardRef\n",
    "import torch\n",
    "from torch import nn\n",
    "from torch._C import import_ir_module\n",
    "import torch.nn.functional as F\n",
    "import torchvision\n",
    "import os\n",
    "\n",
    "from resnet_4ch import resnet\n",
    "\n",
    "class Config(object):\n",
    "    pretrained_model_path = './pretrained_models'\n",
    "\n",
    "    backbone = 'resnet18'\n",
    "    class_num = 2\n",
    "    without_mask =  True\n",
    "    embed_size = 64 # 不确定\n",
    "    loss_pcl = 10\n",
    "\n",
    "opt = Config()"
   ]
  },
  {
   "cell_type": "code",
   "execution_count": 24,
   "metadata": {},
   "outputs": [
    {
     "name": "stdout",
     "output_type": "stream",
     "text": [
      "loaded pretrained resnet18 from ./pretrained_models\\resnet18.pth\n"
     ]
    },
    {
     "data": {
      "text/plain": [
       "10"
      ]
     },
     "execution_count": 24,
     "metadata": {},
     "output_type": "execute_result"
    },
    {
     "data": {
      "text/plain": [
       "torch.Size([4, 512, 8, 8])"
      ]
     },
     "execution_count": 24,
     "metadata": {},
     "output_type": "execute_result"
    }
   ],
   "source": [
    "resnet_layers = int(opt.backbone.split('resnet')[-1]) #34\n",
    "backbone = resnet(resnet_layers,\n",
    "                        True,\n",
    "                        os.path.join(opt.pretrained_model_path, opt.backbone+'.pth'))\n",
    "# drop pool layer and fc layer, resnet34 layer4 output shape: b,512,8,8\n",
    "features = list(backbone.children())\n",
    "len(features)\n",
    "#features[6]\n",
    "#features[7]\n",
    "backbone = nn.Sequential(*features[:7])\n",
    "prediction_head = nn.Sequential(*features[7])\n",
    "\n",
    "img = torch.rand(4,3,256,256)\n",
    "tmp = backbone(img)\n",
    "tmp = prediction_head(tmp)\n"
   ]
  },
  {
   "cell_type": "code",
   "execution_count": 30,
   "metadata": {},
   "outputs": [
    {
     "data": {
      "text/plain": [
       "torch.Size([4, 512, 1, 1])"
      ]
     },
     "execution_count": 30,
     "metadata": {},
     "output_type": "execute_result"
    },
    {
     "ename": "TypeError",
     "evalue": "torch.nn.modules.container.Sequential() argument after * must be an iterable, not AdaptiveAvgPool2d",
     "output_type": "error",
     "traceback": [
      "\u001b[1;31m---------------------------------------------------------------------------\u001b[0m",
      "\u001b[1;31mTypeError\u001b[0m                                 Traceback (most recent call last)",
      "\u001b[1;32m~\\AppData\\Local\\Temp/ipykernel_12956/3549226052.py\u001b[0m in \u001b[0;36m<module>\u001b[1;34m\u001b[0m\n\u001b[0;32m      1\u001b[0m \u001b[0mtmp\u001b[0m\u001b[1;33m.\u001b[0m\u001b[0mshape\u001b[0m\u001b[1;33m\u001b[0m\u001b[1;33m\u001b[0m\u001b[0m\n\u001b[1;32m----> 2\u001b[1;33m \u001b[0ma\u001b[0m \u001b[1;33m=\u001b[0m \u001b[0mnn\u001b[0m\u001b[1;33m.\u001b[0m\u001b[0mSequential\u001b[0m\u001b[1;33m(\u001b[0m\u001b[1;33m*\u001b[0m\u001b[0mfeatures\u001b[0m\u001b[1;33m[\u001b[0m\u001b[1;36m8\u001b[0m\u001b[1;33m]\u001b[0m\u001b[1;33m)\u001b[0m\u001b[1;33m\u001b[0m\u001b[1;33m\u001b[0m\u001b[0m\n\u001b[0m\u001b[0;32m      3\u001b[0m \u001b[0mtmp\u001b[0m \u001b[1;33m=\u001b[0m \u001b[0ma\u001b[0m\u001b[1;33m(\u001b[0m\u001b[0mtmp\u001b[0m\u001b[1;33m)\u001b[0m\u001b[1;33m\u001b[0m\u001b[1;33m\u001b[0m\u001b[0m\n\u001b[0;32m      4\u001b[0m \u001b[0ma\u001b[0m\u001b[1;33m.\u001b[0m\u001b[0mshape\u001b[0m\u001b[1;33m\u001b[0m\u001b[1;33m\u001b[0m\u001b[0m\n\u001b[0;32m      5\u001b[0m \u001b[0mfeatures\u001b[0m\u001b[1;33m[\u001b[0m\u001b[1;33m-\u001b[0m\u001b[1;36m1\u001b[0m\u001b[1;33m]\u001b[0m\u001b[1;33m\u001b[0m\u001b[1;33m\u001b[0m\u001b[0m\n",
      "\u001b[1;31mTypeError\u001b[0m: torch.nn.modules.container.Sequential() argument after * must be an iterable, not AdaptiveAvgPool2d"
     ]
    }
   ],
   "source": [
    "tmp.shape\n",
    "a = nn.Sequential(*features[8])\n",
    "tmp = a(tmp)\n",
    "a.shape\n",
    "features[-1]"
   ]
  }
 ],
 "metadata": {
  "interpreter": {
   "hash": "fb71fd9c3a8870bae8b470c3c4c52a9514a1276bbeb9ea5c4061a9c129ee4266"
  },
  "kernelspec": {
   "display_name": "Python 3.9.0 64-bit",
   "language": "python",
   "name": "python3"
  },
  "language_info": {
   "codemirror_mode": {
    "name": "ipython",
    "version": 3
   },
   "file_extension": ".py",
   "mimetype": "text/x-python",
   "name": "python",
   "nbconvert_exporter": "python",
   "pygments_lexer": "ipython3",
   "version": "3.9.0"
  },
  "orig_nbformat": 4
 },
 "nbformat": 4,
 "nbformat_minor": 2
}
