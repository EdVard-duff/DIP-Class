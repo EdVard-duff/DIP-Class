{
 "cells": [
  {
   "cell_type": "code",
   "execution_count": 1,
   "metadata": {},
   "outputs": [
    {
     "name": "stdout",
     "output_type": "stream",
     "text": [
      "Experiment name resnet34+deepfakes_repeat3 \n",
      "\n"
     ]
    }
   ],
   "source": [
    "from deepfack_dataset import get_train_dataloader, get_test_dataloader\n",
    "from consistency_net import SelfConsistNet\n",
    "from config import opt\n",
    "\n",
    "import os\n",
    "import time\n",
    "import datetime\n",
    "from tensorboardX import SummaryWriter\n",
    "import torch\n",
    "from tqdm import tqdm\n",
    "import shutil\n",
    "import csv\n",
    "import numpy as np\n",
    "from torch import nn\n",
    "from sklearn.metrics import roc_auc_score, average_precision_score\n",
    "\n",
    "global test_results, best_auc, best_ap\n",
    "test_results = []\n",
    "best_auc = 0\n",
    "best_ap = 0"
   ]
  },
  {
   "cell_type": "code",
   "execution_count": 5,
   "metadata": {},
   "outputs": [
    {
     "name": "stdout",
     "output_type": "stream",
     "text": [
      "[0, 3, 7, 12, 13]\n",
      "[0, 1, 0, 1]\n",
      "[1.0, 4.5, 9.0, 12.0]\n"
     ]
    }
   ],
   "source": [
    "video_names = ['a','a','a','b','b','b','b','c','c','c','c','c','d']\n",
    "preds = list(range(13))\n",
    "gts = [0,0,0,1,1,1,1,0,0,0,0,0,1]\n",
    "idx = [0]\n",
    "avr_preds = []\n",
    "avr_gts = []\n",
    "img_num = len(video_names)\n",
    "for i in range(1,img_num):\n",
    "    if video_names[i] != video_names[i-1]:\n",
    "        idx.append(i)\n",
    "    else:\n",
    "        pass    \n",
    "idx.append(img_num)\n",
    "print(idx)\n",
    "for i in range(1,len(idx)):\n",
    "    avr_preds.append(np.mean(preds[idx[i-1]:idx[i]]))\n",
    "    avr_gts.append(gts[idx[i-1]])\n",
    "\n",
    "print(avr_gts)\n",
    "print(avr_preds)"
   ]
  }
 ],
 "metadata": {
  "interpreter": {
   "hash": "fb71fd9c3a8870bae8b470c3c4c52a9514a1276bbeb9ea5c4061a9c129ee4266"
  },
  "kernelspec": {
   "display_name": "Python 3.9.0 64-bit",
   "language": "python",
   "name": "python3"
  },
  "language_info": {
   "codemirror_mode": {
    "name": "ipython",
    "version": 3
   },
   "file_extension": ".py",
   "mimetype": "text/x-python",
   "name": "python",
   "nbconvert_exporter": "python",
   "pygments_lexer": "ipython3",
   "version": "3.9.0"
  },
  "orig_nbformat": 4
 },
 "nbformat": 4,
 "nbformat_minor": 2
}
