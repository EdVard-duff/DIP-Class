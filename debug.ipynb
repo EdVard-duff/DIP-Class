{
 "cells": [
  {
   "cell_type": "code",
   "execution_count": 1,
   "metadata": {},
   "outputs": [],
   "source": [
    "import urllib\n",
    "\n",
    "url = args.base_url + '/' + DEEPFEAKES_DETECTION_URL\n",
    "try:\n",
    "    with urllib.request.urlopen(url) as f:\n",
    "        res = f.read().decode('utf-8')\n",
    "except Exception as e:\n",
    "        page = e.partial\n",
    "        res = page.decode('utf-8')\n",
    "filepaths = json.loads(res)\n",
    "\n",
    "\n",
    "if 'actors' in dataset_path:\n",
    "    filelist = filepaths['actors']\n",
    "else:\n",
    "    filelist = filepaths['DeepFakesDetection']"
   ]
  }
 ],
 "metadata": {
  "interpreter": {
   "hash": "fb71fd9c3a8870bae8b470c3c4c52a9514a1276bbeb9ea5c4061a9c129ee4266"
  },
  "kernelspec": {
   "display_name": "Python 3.9.0 64-bit",
   "language": "python",
   "name": "python3"
  },
  "language_info": {
   "codemirror_mode": {
    "name": "ipython",
    "version": 3
   },
   "file_extension": ".py",
   "mimetype": "text/x-python",
   "name": "python",
   "nbconvert_exporter": "python",
   "pygments_lexer": "ipython3",
   "version": "3.9.0"
  },
  "orig_nbformat": 4
 },
 "nbformat": 4,
 "nbformat_minor": 2
}
